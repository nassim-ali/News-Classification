{
 "cells": [
  {
   "cell_type": "code",
   "execution_count": 61,
   "metadata": {},
   "outputs": [],
   "source": [
    "from pyspark.ml.feature import RegexTokenizer # tokenizer\n",
    "from pyspark.ml.feature import HashingTF, IDF # vectorizer\n",
    "from pyspark.ml.feature import StopWordsRemover # to remove stop words\n",
    "from pyspark.sql.functions import col, concat_ws # to concatinate cols\n",
    "from pyspark.sql import functions as F\n",
    "from pyspark.ml.classification import LogisticRegression # ml model\n",
    "from pyspark.ml.evaluation import MulticlassClassificationEvaluator # to evaluate the model\n",
    "from pyspark.mllib.evaluation import MulticlassMetrics\n",
    "from pyspark.sql.types import DoubleType\n",
    "from pyspark.sql import SparkSession\n",
    "import seaborn as sns\n",
    "import matplotlib.pyplot as plt"
   ]
  },
  {
   "cell_type": "code",
   "execution_count": 2,
   "metadata": {},
   "outputs": [
    {
     "name": "stderr",
     "output_type": "stream",
     "text": [
      "/usr/local/spark/bin/load-spark-env.sh: line 68: ps: command not found\n",
      "Setting default log level to \"WARN\".\n",
      "To adjust logging level use sc.setLogLevel(newLevel). For SparkR, use setLogLevel(newLevel).\n",
      "24/12/02 21:25:07 WARN NativeCodeLoader: Unable to load native-hadoop library for your platform... using builtin-java classes where applicable\n"
     ]
    }
   ],
   "source": [
    "spark = SparkSession.builder \\\n",
    "    .master(\"local[*]\") \\\n",
    "    .appName(\"news-classification\") \\\n",
    "    .getOrCreate()"
   ]
  },
  {
   "cell_type": "code",
   "execution_count": 3,
   "metadata": {},
   "outputs": [
    {
     "name": "stderr",
     "output_type": "stream",
     "text": [
      "                                                                                \r"
     ]
    }
   ],
   "source": [
    "train = spark.read.csv(\"data/train.csv\", inferSchema=True, header=True)\n",
    "test = spark.read.csv(\"data/test.csv\", inferSchema=True, header=True)"
   ]
  },
  {
   "cell_type": "code",
   "execution_count": 4,
   "metadata": {},
   "outputs": [
    {
     "name": "stdout",
     "output_type": "stream",
     "text": [
      "root\n",
      " |-- Class Index: integer (nullable = true)\n",
      " |-- Title: string (nullable = true)\n",
      " |-- Description: string (nullable = true)\n",
      "\n"
     ]
    }
   ],
   "source": [
    "train.printSchema()"
   ]
  },
  {
   "cell_type": "code",
   "execution_count": 5,
   "metadata": {},
   "outputs": [],
   "source": [
    "#rename class index to label\n",
    "train = train.withColumnRenamed(\"Class Index\", \"label\")\n",
    "test = test.withColumnRenamed(\"Class Index\", \"label\")"
   ]
  },
  {
   "cell_type": "code",
   "execution_count": 6,
   "metadata": {},
   "outputs": [
    {
     "name": "stdout",
     "output_type": "stream",
     "text": [
      "root\n",
      " |-- label: integer (nullable = true)\n",
      " |-- Title: string (nullable = true)\n",
      " |-- Description: string (nullable = true)\n",
      "\n"
     ]
    }
   ],
   "source": [
    "train.printSchema()"
   ]
  },
  {
   "cell_type": "code",
   "execution_count": 7,
   "metadata": {},
   "outputs": [
    {
     "name": "stderr",
     "output_type": "stream",
     "text": [
      "                                                                                \r"
     ]
    },
    {
     "data": {
      "text/plain": [
       "120000"
      ]
     },
     "execution_count": 7,
     "metadata": {},
     "output_type": "execute_result"
    }
   ],
   "source": [
    "train.count()"
   ]
  },
  {
   "cell_type": "code",
   "execution_count": 8,
   "metadata": {},
   "outputs": [
    {
     "data": {
      "text/plain": [
       "7600"
      ]
     },
     "execution_count": 8,
     "metadata": {},
     "output_type": "execute_result"
    }
   ],
   "source": [
    "test.count()"
   ]
  },
  {
   "cell_type": "code",
   "execution_count": 9,
   "metadata": {},
   "outputs": [],
   "source": [
    "# Add a new column 'Text' by concatinating 'Title' and 'Description',\n",
    "train = train.withColumn(\"Text\", concat_ws(\" \", \"Title\", 'Description'))\n",
    "test = test.withColumn(\"Text\", concat_ws(\" \", \"Title\", 'Description'))"
   ]
  },
  {
   "cell_type": "code",
   "execution_count": 10,
   "metadata": {},
   "outputs": [],
   "source": [
    "# Remove old text columns\\n\",\n",
    "train = train.select('label', 'text')"
   ]
  },
  {
   "cell_type": "code",
   "execution_count": 11,
   "metadata": {},
   "outputs": [],
   "source": [
    "# Remove old text columns\\n\",\n",
    "test = test.select('label', 'text')"
   ]
  },
  {
   "cell_type": "code",
   "execution_count": 12,
   "metadata": {},
   "outputs": [
    {
     "data": {
      "text/plain": [
       "Row(label=3, text=\"Wall St. Bears Claw Back Into the Black (Reuters) Reuters - Short-sellers, Wall Street's dwindling\\\\band of ultra-cynics, are seeing green again.\")"
      ]
     },
     "execution_count": 12,
     "metadata": {},
     "output_type": "execute_result"
    }
   ],
   "source": [
    "train.first()"
   ]
  },
  {
   "cell_type": "code",
   "execution_count": 13,
   "metadata": {},
   "outputs": [
    {
     "data": {
      "text/plain": [
       "Row(label=3, text=\"Fears for T N pension after talks Unions representing workers at Turner   Newall say they are 'disappointed' after talks with stricken parent firm Federal Mogul.\")"
      ]
     },
     "execution_count": 13,
     "metadata": {},
     "output_type": "execute_result"
    }
   ],
   "source": [
    "test.first()"
   ]
  },
  {
   "cell_type": "code",
   "execution_count": 14,
   "metadata": {},
   "outputs": [
    {
     "name": "stdout",
     "output_type": "stream",
     "text": [
      "+-----+--------------------+--------------------+\n",
      "|label|                text|               words|\n",
      "+-----+--------------------+--------------------+\n",
      "|    3|Wall St. Bears Cl...|[wall, st, bears,...|\n",
      "|    3|Carlyle Looks Tow...|[carlyle, looks, ...|\n",
      "|    3|Oil and Economy C...|[oil, and, econom...|\n",
      "|    3|Iraq Halts Oil Ex...|[iraq, halts, oil...|\n",
      "|    3|Oil prices soar t...|[oil, prices, soa...|\n",
      "+-----+--------------------+--------------------+\n",
      "only showing top 5 rows\n",
      "\n"
     ]
    }
   ],
   "source": [
    "# convert sentences to list of words\n",
    "tokenizer = RegexTokenizer(inputCol=\"text\", outputCol=\"words\", pattern=\"\\\\W\")\n",
    "\n",
    "# adds a column 'words' to df after tokenization\n",
    "train = tokenizer.transform(train)\n",
    "test = tokenizer.transform(test)\n",
    "train.select(['label','text', 'words']).show(5)"
   ]
  },
  {
   "cell_type": "code",
   "execution_count": 15,
   "metadata": {},
   "outputs": [
    {
     "data": {
      "text/plain": [
       "Row(label=3, text=\"Wall St. Bears Claw Back Into the Black (Reuters) Reuters - Short-sellers, Wall Street's dwindling\\\\band of ultra-cynics, are seeing green again.\", words=['wall', 'st', 'bears', 'claw', 'back', 'into', 'the', 'black', 'reuters', 'reuters', 'short', 'sellers', 'wall', 'street', 's', 'dwindling', 'band', 'of', 'ultra', 'cynics', 'are', 'seeing', 'green', 'again'], filtered=['wall', 'st', 'bears', 'claw', 'back', 'black', 'reuters', 'reuters', 'short', 'sellers', 'wall', 'street', 'dwindling', 'band', 'ultra', 'cynics', 'seeing', 'green'])"
      ]
     },
     "execution_count": 15,
     "metadata": {},
     "output_type": "execute_result"
    }
   ],
   "source": [
    "# to remove stop words like is, the, in, etc.\n",
    "stopwords_remover = StopWordsRemover(inputCol=\"words\", outputCol=\"filtered\")\n",
    "\n",
    "# adds a column 'filtered' to df without stopwords\n",
    "train = stopwords_remover.transform(train)\n",
    "test = stopwords_remover.transform(test)\n",
    "\n",
    "train.select(['label','text', 'words', 'filtered']).first()"
   ]
  },
  {
   "cell_type": "code",
   "execution_count": 16,
   "metadata": {},
   "outputs": [],
   "source": [
    "# Calculate term frequency in each article\n",
    "hashing_tf = HashingTF(inputCol=\"filtered\",\n",
    "                       outputCol=\"raw_features\", \n",
    "                       numFeatures=10000)\n",
    "\n",
    "# adds raw tf features to train and test\n",
    "featurized_data_train = hashing_tf.transform(train)\n",
    "featurized_data_test = hashing_tf.transform(test)"
   ]
  },
  {
   "cell_type": "code",
   "execution_count": 17,
   "metadata": {},
   "outputs": [
    {
     "data": {
      "text/plain": [
       "Row(label=3, text=\"Wall St. Bears Claw Back Into the Black (Reuters) Reuters - Short-sellers, Wall Street's dwindling\\\\band of ultra-cynics, are seeing green again.\", words=['wall', 'st', 'bears', 'claw', 'back', 'into', 'the', 'black', 'reuters', 'reuters', 'short', 'sellers', 'wall', 'street', 's', 'dwindling', 'band', 'of', 'ultra', 'cynics', 'are', 'seeing', 'green', 'again'], filtered=['wall', 'st', 'bears', 'claw', 'back', 'black', 'reuters', 'reuters', 'short', 'sellers', 'wall', 'street', 'dwindling', 'band', 'ultra', 'cynics', 'seeing', 'green'], raw_features=SparseVector(10000, {551: 1.0, 662: 1.0, 1262: 1.0, 1449: 1.0, 1889: 1.0, 1948: 1.0, 2503: 1.0, 2826: 1.0, 3038: 1.0, 3684: 1.0, 4443: 1.0, 6404: 2.0, 8318: 1.0, 8430: 1.0, 8450: 2.0, 9430: 1.0}))"
      ]
     },
     "execution_count": 17,
     "metadata": {},
     "output_type": "execute_result"
    }
   ],
   "source": [
    "featurized_data_train.first()"
   ]
  },
  {
   "cell_type": "code",
   "execution_count": 18,
   "metadata": {},
   "outputs": [
    {
     "name": "stderr",
     "output_type": "stream",
     "text": [
      "                                                                                \r"
     ]
    },
    {
     "data": {
      "text/plain": [
       "Row(label=3, Text=\"Wall St. Bears Claw Back Into the Black (Reuters) Reuters - Short-sellers, Wall Street's dwindling\\\\band of ultra-cynics, are seeing green again.\", words=['wall', 'st', 'bears', 'claw', 'back', 'into', 'the', 'black', 'reuters', 'reuters', 'short', 'sellers', 'wall', 'street', 's', 'dwindling', 'band', 'of', 'ultra', 'cynics', 'are', 'seeing', 'green', 'again'], filtered=['wall', 'st', 'bears', 'claw', 'back', 'black', 'reuters', 'reuters', 'short', 'sellers', 'wall', 'street', 'dwindling', 'band', 'ultra', 'cynics', 'seeing', 'green'], features=SparseVector(10000, {551: 5.0712, 662: 6.0219, 1262: 4.8128, 1449: 5.9301, 1889: 6.8511, 1948: 5.1091, 2503: 7.6177, 2826: 5.9301, 3038: 4.6094, 3684: 4.3538, 4443: 5.6646, 6404: 9.0673, 8318: 8.0064, 8430: 3.3834, 8450: 4.4483, 9430: 6.5595}))"
      ]
     },
     "execution_count": 18,
     "metadata": {},
     "output_type": "execute_result"
    }
   ],
   "source": [
    "# Inverse document frequency\n",
    "idf = IDF(inputCol=\"raw_features\", outputCol=\"features\")\n",
    "\n",
    "idf_vectorizer = idf.fit(featurized_data_train)\n",
    "# converting text to vectors\n",
    "rescaled_data_train = idf_vectorizer.transform(featurized_data_train)\n",
    "rescaled_data_test = idf_vectorizer.transform(featurized_data_test)\n",
    "\n",
    "# show first row\n",
    "rescaled_data_train.select(\"label\",'Text', 'words', 'filtered', \"features\").first()"
   ]
  },
  {
   "cell_type": "code",
   "execution_count": 19,
   "metadata": {},
   "outputs": [],
   "source": [
    "# create model\n",
    "lr = LogisticRegression(featuresCol='features',\n",
    "                        labelCol='label',\n",
    "                        family=\"multinomial\",\n",
    "                        regParam=0.3,\n",
    "                        elasticNetParam=0,\n",
    "                        maxIter=50)"
   ]
  },
  {
   "cell_type": "code",
   "execution_count": 20,
   "metadata": {},
   "outputs": [
    {
     "name": "stderr",
     "output_type": "stream",
     "text": [
      "[Stage 17:==============>                                           (1 + 3) / 4]\r"
     ]
    },
    {
     "name": "stdout",
     "output_type": "stream",
     "text": [
      "+-----+----+-----+--------+------------+--------+\n",
      "|label|text|words|filtered|raw_features|features|\n",
      "+-----+----+-----+--------+------------+--------+\n",
      "|    0|   0|    0|       0|           0|       0|\n",
      "+-----+----+-----+--------+------------+--------+\n",
      "\n"
     ]
    },
    {
     "name": "stderr",
     "output_type": "stream",
     "text": [
      "                                                                                \r"
     ]
    }
   ],
   "source": [
    "#looking for columns with null values in train df\n",
    "rescaled_data_train.select([F.count(F.when(F.col(c).isNull(), c)).alias(c) for c in rescaled_data_train.columns]).show()"
   ]
  },
  {
   "cell_type": "code",
   "execution_count": 21,
   "metadata": {},
   "outputs": [
    {
     "name": "stderr",
     "output_type": "stream",
     "text": [
      "[Stage 20:>                                                         (0 + 1) / 1]\r"
     ]
    },
    {
     "name": "stdout",
     "output_type": "stream",
     "text": [
      "+-----+----+-----+--------+------------+--------+\n",
      "|label|text|words|filtered|raw_features|features|\n",
      "+-----+----+-----+--------+------------+--------+\n",
      "|    0|   0|    0|       0|           0|       0|\n",
      "+-----+----+-----+--------+------------+--------+\n",
      "\n"
     ]
    },
    {
     "name": "stderr",
     "output_type": "stream",
     "text": [
      "                                                                                \r"
     ]
    }
   ],
   "source": [
    "#looking for columns with null values in test df\n",
    "rescaled_data_test.select([F.count(F.when(F.col(c).isNull(), c)).alias(c) for c in rescaled_data_test.columns]).show()"
   ]
  },
  {
   "cell_type": "code",
   "execution_count": 22,
   "metadata": {},
   "outputs": [
    {
     "name": "stderr",
     "output_type": "stream",
     "text": [
      "24/12/02 21:26:05 WARN InstanceBuilder: Failed to load implementation from:dev.ludovic.netlib.blas.JNIBLAS\n",
      "                                                                                \r"
     ]
    }
   ],
   "source": [
    "# fit model\n",
    "lrModel = lr.fit(rescaled_data_train)"
   ]
  },
  {
   "cell_type": "code",
   "execution_count": 23,
   "metadata": {},
   "outputs": [],
   "source": [
    "# get predictions for test set\n",
    "predictions = lrModel.transform(rescaled_data_test)"
   ]
  },
  {
   "cell_type": "code",
   "execution_count": 24,
   "metadata": {},
   "outputs": [
    {
     "name": "stdout",
     "output_type": "stream",
     "text": [
      "+--------------------+--------------------+----------+-----+\n",
      "|                Text|         probability|prediction|label|\n",
      "+--------------------+--------------------+----------+-----+\n",
      "|Fears for T N pen...|[5.60449475646470...|       3.0|    3|\n",
      "|The Race is On: S...|[1.14071497961305...|       4.0|    4|\n",
      "|Ky. Company Wins ...|[6.54741009948168...|       4.0|    4|\n",
      "|Prediction Unit H...|[7.45306723490196...|       2.0|    4|\n",
      "|Calif. Aims to Li...|[6.27946270079914...|       4.0|    4|\n",
      "+--------------------+--------------------+----------+-----+\n",
      "only showing top 5 rows\n",
      "\n"
     ]
    }
   ],
   "source": [
    "# show top 10 predictions\n",
    "predictions.select(\"Text\", 'probability','prediction', 'label').show(5)"
   ]
  },
  {
   "cell_type": "code",
   "execution_count": 38,
   "metadata": {},
   "outputs": [
    {
     "name": "stderr",
     "output_type": "stream",
     "text": [
      "[Stage 98:>                                                         (0 + 1) / 1]\r"
     ]
    },
    {
     "name": "stdout",
     "output_type": "stream",
     "text": [
      "Accuracy: 89.75%\n",
      "Rappel: 89.75%\n",
      "F1-score: 89.72%\n"
     ]
    },
    {
     "name": "stderr",
     "output_type": "stream",
     "text": [
      "                                                                                \r"
     ]
    }
   ],
   "source": [
    "#metrics calculation\n",
    "evaluator = MulticlassClassificationEvaluator(labelCol=\"label\", predictionCol=\"prediction\", metricName=\"accuracy\")\n",
    "accuracy = evaluator.evaluate(predictions)*100\n",
    "recall = evaluator.evaluate(predictions, {evaluator.metricName: \"weightedRecall\"})*100\n",
    "f1_score = evaluator.evaluate(predictions, {evaluator.metricName: \"f1\"})*100\n",
    "\n",
    "print(f\"Accuracy: {accuracy:.2f}%\")\n",
    "print(f\"Rappel: {recall:.2f}%\")\n",
    "print(f\"F1-score: {f1_score:.2f}%\")"
   ]
  },
  {
   "cell_type": "code",
   "execution_count": 43,
   "metadata": {},
   "outputs": [
    {
     "data": {
      "image/png": "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",
      "text/plain": [
       "<Figure size 600x400 with 1 Axes>"
      ]
     },
     "metadata": {},
     "output_type": "display_data"
    }
   ],
   "source": [
    "metrics = {'Accuracy': accuracy,'Rappel': recall, 'F1-score': f1_score}\n",
    "\n",
    "plt.figure(figsize=(6, 4))\n",
    "plt.bar(metrics.keys(), metrics.values(), color=['blue', 'green','purple'])\n",
    "plt.ylabel('Score (%)')\n",
    "plt.title('Performance du modèle: Précision, Rappel et F1-score')\n",
    "plt.ylim(0, 100) \n",
    "plt.yticks(range(0, 101, 10))\n",
    "plt.show()"
   ]
  },
  {
   "cell_type": "code",
   "execution_count": 26,
   "metadata": {},
   "outputs": [
    {
     "name": "stderr",
     "output_type": "stream",
     "text": [
      "/usr/local/lib/python3.9/dist-packages/pyspark/sql/context.py:158: FutureWarning: Deprecated in 3.0.0. Use SparkSession.builder.getOrCreate() instead.\n",
      "  warnings.warn(\n",
      "                                                                                \r"
     ]
    },
    {
     "data": {
      "image/png": "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",
      "text/plain": [
       "<Figure size 700x700 with 1 Axes>"
      ]
     },
     "metadata": {},
     "output_type": "display_data"
    }
   ],
   "source": [
    "labels = {\"World\",\"Sports\",\"Business\", \"Science/Tech\"}\n",
    "\n",
    "preds_and_labels = predictions.withColumn('prediction', col('prediction').cast('double')) \\\n",
    "                                   .withColumn('label', col('label').cast('double'))\n",
    "preds_and_labels_rdd = preds_and_labels.rdd.map(lambda row: (row['prediction'], row['label']))\n",
    "\n",
    "# generate metrics\n",
    "metrics = MulticlassMetrics(preds_and_labels_rdd)\n",
    "\n",
    "# figure object\n",
    "_ = plt.figure(figsize=(7, 7))\n",
    "\n",
    "# plot confusion matrix\n",
    "sns.heatmap(metrics.confusionMatrix().toArray(),\n",
    "            cmap='viridis',\n",
    "            annot=True,fmt='0',\n",
    "            cbar=False,\n",
    "            xticklabels=labels,\n",
    "            yticklabels=labels)\n",
    "plt.show()"
   ]
  },
  {
   "cell_type": "code",
   "execution_count": 27,
   "metadata": {},
   "outputs": [
    {
     "name": "stderr",
     "output_type": "stream",
     "text": [
      "                                                                                \r"
     ]
    }
   ],
   "source": [
    "#save the model\n",
    "lrModel.write().overwrite().save(\"./lrModel\")"
   ]
  },
  {
   "cell_type": "code",
   "execution_count": 28,
   "metadata": {},
   "outputs": [],
   "source": [
    "# save vectorizer\n",
    "idf_vectorizer.write().overwrite().save(\"./idfModel\")"
   ]
  },
  {
   "cell_type": "code",
   "execution_count": null,
   "metadata": {},
   "outputs": [],
   "source": [
    "# save hashing tf\n",
    "hashing_tf.write().overwrite().save(\"./hashingTF\")"
   ]
=======
  }
 ],
 "metadata": {
  "kernelspec": {
   "display_name": "venv",
   "language": "python",
   "name": "python3"
  },
  "language_info": {
   "codemirror_mode": {
    "name": "ipython",
    "version": 3
   },
   "file_extension": ".py",
   "mimetype": "text/x-python",
   "name": "python",
   "nbconvert_exporter": "python",
   "pygments_lexer": "ipython3",
   "version": "3.12.2"
  }
 },
 "nbformat": 4,
 "nbformat_minor": 4
}
