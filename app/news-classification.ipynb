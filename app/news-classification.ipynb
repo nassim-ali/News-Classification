{
 "cells": [
  {
   "cell_type": "code",
   "execution_count": 31,
   "metadata": {},
   "outputs": [],
   "source": [
    "from pyspark.ml.feature import RegexTokenizer # tokenizer\n",
    "from pyspark.ml.feature import HashingTF, IDF # vectorizer\n",
    "from pyspark.ml.feature import StopWordsRemover # to remove stop words\n",
    "from pyspark.sql.functions import col, concat_ws # to concatinate cols\n",
    "from pyspark.sql import functions as F\n",
    "from pyspark.ml.classification import LogisticRegression # ml model\n",
    "from pyspark.ml.evaluation import MulticlassClassificationEvaluator # to evaluate the model\n",
    "from pyspark.mllib.evaluation import MulticlassMetrics\n",
    "from pyspark.sql.types import DoubleType\n",
    "from pyspark.sql import SparkSession\n",
    "import seaborn as sns\n",
    "import matplotlib.pyplot as plt"
   ]
  },
  {
   "cell_type": "code",
   "execution_count": 2,
   "metadata": {},
   "outputs": [
    {
     "name": "stderr",
     "output_type": "stream",
     "text": [
      "/usr/local/spark/bin/load-spark-env.sh: line 68: ps: command not found\n",
      "Setting default log level to \"WARN\".\n",
      "To adjust logging level use sc.setLogLevel(newLevel). For SparkR, use setLogLevel(newLevel).\n",
      "24/12/02 15:01:06 WARN NativeCodeLoader: Unable to load native-hadoop library for your platform... using builtin-java classes where applicable\n"
     ]
    }
   ],
   "source": [
    "spark = SparkSession.builder \\\n",
    "    .master(\"local[*]\") \\\n",
    "    .appName(\"news-classification\") \\\n",
    "    .getOrCreate()"
   ]
  },
  {
   "cell_type": "code",
   "execution_count": 3,
   "metadata": {},
   "outputs": [
    {
     "name": "stderr",
     "output_type": "stream",
     "text": [
      "                                                                                \r"
     ]
    }
   ],
   "source": [
    "train = spark.read.csv(\"data/train.csv\", inferSchema=True, header=True)\n",
    "test = spark.read.csv(\"data/test.csv\", inferSchema=True, header=True)"
   ]
  },
  {
   "cell_type": "code",
   "execution_count": 4,
   "metadata": {},
   "outputs": [
    {
     "name": "stdout",
     "output_type": "stream",
     "text": [
      "root\n",
      " |-- Class Index: integer (nullable = true)\n",
      " |-- Title: string (nullable = true)\n",
      " |-- Description: string (nullable = true)\n",
      "\n"
     ]
    }
   ],
   "source": [
    "train.printSchema()"
   ]
  },
  {
   "cell_type": "code",
   "execution_count": 5,
   "metadata": {},
   "outputs": [],
   "source": [
    "#rename class index to label\n",
    "train = train.withColumnRenamed(\"Class Index\", \"label\")\n",
    "test = test.withColumnRenamed(\"Class Index\", \"label\")"
   ]
  },
  {
   "cell_type": "code",
   "execution_count": 6,
   "metadata": {},
   "outputs": [
    {
     "name": "stdout",
     "output_type": "stream",
     "text": [
      "root\n",
      " |-- label: integer (nullable = true)\n",
      " |-- Title: string (nullable = true)\n",
      " |-- Description: string (nullable = true)\n",
      "\n"
     ]
    }
   ],
   "source": [
    "train.printSchema()"
   ]
  },
  {
   "cell_type": "code",
   "execution_count": 7,
   "metadata": {},
   "outputs": [
    {
     "data": {
      "text/plain": [
       "120000"
      ]
     },
     "execution_count": 7,
     "metadata": {},
     "output_type": "execute_result"
    }
   ],
   "source": [
    "train.count()"
   ]
  },
  {
   "cell_type": "code",
   "execution_count": 8,
   "metadata": {},
   "outputs": [
    {
     "data": {
      "text/plain": [
       "7600"
      ]
     },
     "execution_count": 8,
     "metadata": {},
     "output_type": "execute_result"
    }
   ],
   "source": [
    "test.count()"
   ]
  },
  {
   "cell_type": "code",
   "execution_count": 9,
   "metadata": {},
   "outputs": [],
   "source": [
    "# Add a new column 'Text' by concatinating 'Title' and 'Description',\n",
    "train = train.withColumn(\"Text\", concat_ws(\" \", \"Title\", 'Description'))\n",
    "test = test.withColumn(\"Text\", concat_ws(\" \", \"Title\", 'Description'))"
   ]
  },
  {
   "cell_type": "code",
   "execution_count": 10,
   "metadata": {},
   "outputs": [],
   "source": [
    "# Remove old text columns\\n\",\n",
    "train = train.select('label', 'text')"
   ]
  },
  {
   "cell_type": "code",
   "execution_count": 11,
   "metadata": {},
   "outputs": [],
   "source": [
    "# Remove old text columns\\n\",\n",
    "test = test.select('label', 'text')"
   ]
  },
  {
   "cell_type": "code",
   "execution_count": 12,
   "metadata": {},
   "outputs": [
    {
     "data": {
      "text/plain": [
       "Row(label=3, text=\"Wall St. Bears Claw Back Into the Black (Reuters) Reuters - Short-sellers, Wall Street's dwindling\\\\band of ultra-cynics, are seeing green again.\")"
      ]
     },
     "execution_count": 12,
     "metadata": {},
     "output_type": "execute_result"
    }
   ],
   "source": [
    "train.first()"
   ]
  },
  {
   "cell_type": "code",
   "execution_count": 13,
   "metadata": {},
   "outputs": [
    {
     "data": {
      "text/plain": [
       "Row(label=3, text=\"Fears for T N pension after talks Unions representing workers at Turner   Newall say they are 'disappointed' after talks with stricken parent firm Federal Mogul.\")"
      ]
     },
     "execution_count": 13,
     "metadata": {},
     "output_type": "execute_result"
    }
   ],
   "source": [
    "test.first()"
   ]
  },
  {
   "cell_type": "code",
   "execution_count": 14,
   "metadata": {},
   "outputs": [
    {
     "name": "stdout",
     "output_type": "stream",
     "text": [
      "+-----+--------------------+--------------------+\n",
      "|label|                text|               words|\n",
      "+-----+--------------------+--------------------+\n",
      "|    3|Wall St. Bears Cl...|[wall, st, bears,...|\n",
      "|    3|Carlyle Looks Tow...|[carlyle, looks, ...|\n",
      "|    3|Oil and Economy C...|[oil, and, econom...|\n",
      "|    3|Iraq Halts Oil Ex...|[iraq, halts, oil...|\n",
      "|    3|Oil prices soar t...|[oil, prices, soa...|\n",
      "+-----+--------------------+--------------------+\n",
      "only showing top 5 rows\n",
      "\n"
     ]
    }
   ],
   "source": [
    "# convert sentences to list of words\n",
    "tokenizer = RegexTokenizer(inputCol=\"text\", outputCol=\"words\", pattern=\"\\\\W\")\n",
    "\n",
    "# adds a column 'words' to df after tokenization\n",
    "train = tokenizer.transform(train)\n",
    "test = tokenizer.transform(test)\n",
    "\n",
    "train.select(['label','text', 'words']).show(5)"
   ]
  },
  {
   "cell_type": "code",
   "execution_count": 15,
   "metadata": {},
   "outputs": [
    {
     "data": {
      "text/plain": [
       "Row(label=3, text=\"Wall St. Bears Claw Back Into the Black (Reuters) Reuters - Short-sellers, Wall Street's dwindling\\\\band of ultra-cynics, are seeing green again.\", words=['wall', 'st', 'bears', 'claw', 'back', 'into', 'the', 'black', 'reuters', 'reuters', 'short', 'sellers', 'wall', 'street', 's', 'dwindling', 'band', 'of', 'ultra', 'cynics', 'are', 'seeing', 'green', 'again'], filtered=['wall', 'st', 'bears', 'claw', 'back', 'black', 'reuters', 'reuters', 'short', 'sellers', 'wall', 'street', 'dwindling', 'band', 'ultra', 'cynics', 'seeing', 'green'])"
      ]
     },
     "execution_count": 15,
     "metadata": {},
     "output_type": "execute_result"
    }
   ],
   "source": [
    "# to remove stop words like is, the, in, etc.\n",
    "stopwords_remover = StopWordsRemover(inputCol=\"words\", outputCol=\"filtered\")\n",
    "\n",
    "# adds a column 'filtered' to df without stopwords\n",
    "train = stopwords_remover.transform(train)\n",
    "test = stopwords_remover.transform(test)\n",
    "\n",
    "train.select(['label','text', 'words', 'filtered']).first()"
   ]
  },
  {
   "cell_type": "code",
   "execution_count": 16,
   "metadata": {},
   "outputs": [],
   "source": [
    "# Calculate term frequency in each article\n",
    "hashing_tf = HashingTF(inputCol=\"filtered\",\n",
    "                       outputCol=\"raw_features\", \n",
    "                       numFeatures=10000)\n",
    "\n",
    "# adds raw tf features to train and test\n",
    "featurized_data_train = hashing_tf.transform(train)\n",
    "featurized_data_test = hashing_tf.transform(test)"
   ]
  },
  {
   "cell_type": "code",
   "execution_count": 17,
   "metadata": {},
   "outputs": [
    {
     "data": {
      "text/plain": [
       "Row(label=3, text=\"Wall St. Bears Claw Back Into the Black (Reuters) Reuters - Short-sellers, Wall Street's dwindling\\\\band of ultra-cynics, are seeing green again.\", words=['wall', 'st', 'bears', 'claw', 'back', 'into', 'the', 'black', 'reuters', 'reuters', 'short', 'sellers', 'wall', 'street', 's', 'dwindling', 'band', 'of', 'ultra', 'cynics', 'are', 'seeing', 'green', 'again'], filtered=['wall', 'st', 'bears', 'claw', 'back', 'black', 'reuters', 'reuters', 'short', 'sellers', 'wall', 'street', 'dwindling', 'band', 'ultra', 'cynics', 'seeing', 'green'], raw_features=SparseVector(10000, {551: 1.0, 662: 1.0, 1262: 1.0, 1449: 1.0, 1889: 1.0, 1948: 1.0, 2503: 1.0, 2826: 1.0, 3038: 1.0, 3684: 1.0, 4443: 1.0, 6404: 2.0, 8318: 1.0, 8430: 1.0, 8450: 2.0, 9430: 1.0}))"
      ]
     },
     "execution_count": 17,
     "metadata": {},
     "output_type": "execute_result"
    }
   ],
   "source": [
    "featurized_data_train.first()"
   ]
  },
  {
   "cell_type": "code",
   "execution_count": 18,
   "metadata": {},
   "outputs": [
    {
     "name": "stderr",
     "output_type": "stream",
     "text": [
      "                                                                                \r"
     ]
    },
    {
     "data": {
      "text/plain": [
       "Row(label=3, Text=\"Wall St. Bears Claw Back Into the Black (Reuters) Reuters - Short-sellers, Wall Street's dwindling\\\\band of ultra-cynics, are seeing green again.\", words=['wall', 'st', 'bears', 'claw', 'back', 'into', 'the', 'black', 'reuters', 'reuters', 'short', 'sellers', 'wall', 'street', 's', 'dwindling', 'band', 'of', 'ultra', 'cynics', 'are', 'seeing', 'green', 'again'], filtered=['wall', 'st', 'bears', 'claw', 'back', 'black', 'reuters', 'reuters', 'short', 'sellers', 'wall', 'street', 'dwindling', 'band', 'ultra', 'cynics', 'seeing', 'green'], features=SparseVector(10000, {551: 5.0712, 662: 6.0219, 1262: 4.8128, 1449: 5.9301, 1889: 6.8511, 1948: 5.1091, 2503: 7.6177, 2826: 5.9301, 3038: 4.6094, 3684: 4.3538, 4443: 5.6646, 6404: 9.0673, 8318: 8.0064, 8430: 3.3834, 8450: 4.4483, 9430: 6.5595}))"
      ]
     },
     "execution_count": 18,
     "metadata": {},
     "output_type": "execute_result"
    }
   ],
   "source": [
    "# Inverse document frequency\n",
    "idf = IDF(inputCol=\"raw_features\", outputCol=\"features\")\n",
    "\n",
    "idf_vectorizer = idf.fit(featurized_data_train)\n",
    "\n",
    "# converting text to vectors\n",
    "rescaled_data_train = idf_vectorizer.transform(featurized_data_train)\n",
    "rescaled_data_test = idf_vectorizer.transform(featurized_data_test)\n",
    "\n",
    "# show first row\n",
    "rescaled_data_train.select(\"label\",'Text', 'words', 'filtered', \"features\").first()"
   ]
  },
  {
   "cell_type": "code",
   "execution_count": 19,
   "metadata": {},
   "outputs": [],
   "source": [
    "# create model\n",
    "lr = LogisticRegression(featuresCol='features',\n",
    "                        labelCol='label',\n",
    "                        family=\"multinomial\",\n",
    "                        regParam=0.3,\n",
    "                        elasticNetParam=0,\n",
    "                        maxIter=50)"
   ]
  },
  {
   "cell_type": "code",
   "execution_count": 32,
   "metadata": {},
   "outputs": [
    {
     "name": "stderr",
     "output_type": "stream",
     "text": [
      "[Stage 21:>                                                         (0 + 7) / 7]\r"
     ]
    },
    {
     "name": "stdout",
     "output_type": "stream",
     "text": [
      "+-----+----+-----+--------+------------+--------+\n",
      "|label|text|words|filtered|raw_features|features|\n",
      "+-----+----+-----+--------+------------+--------+\n",
      "|    0|   0|    0|       0|           0|       0|\n",
      "+-----+----+-----+--------+------------+--------+\n",
      "\n"
     ]
    },
    {
     "name": "stderr",
     "output_type": "stream",
     "text": [
      "                                                                                \r"
     ]
    }
   ],
   "source": [
    "#looking for columns with null values in train df\n",
    "rescaled_data_train.select([F.count(F.when(F.col(c).isNull(), c)).alias(c) for c in rescaled_data_train.columns]).show()"
   ]
  },
  {
   "cell_type": "code",
   "execution_count": 33,
   "metadata": {},
   "outputs": [
    {
     "name": "stdout",
     "output_type": "stream",
     "text": [
      "+-----+----+-----+--------+------------+--------+\n",
      "|label|text|words|filtered|raw_features|features|\n",
      "+-----+----+-----+--------+------------+--------+\n",
      "|    0|   0|    0|       0|           0|       0|\n",
      "+-----+----+-----+--------+------------+--------+\n",
      "\n"
     ]
    }
   ],
   "source": [
    "#looking for columns with null values in test df\n",
    "rescaled_data_test.select([F.count(F.when(F.col(c).isNull(), c)).alias(c) for c in rescaled_data_test.columns]).show()"
   ]
  },
  {
   "cell_type": "code",
   "execution_count": 34,
   "metadata": {},
   "outputs": [
    {
     "name": "stderr",
     "output_type": "stream",
     "text": [
      "24/12/02 15:12:30 WARN InstanceBuilder: Failed to load implementation from:dev.ludovic.netlib.blas.JNIBLAS\n",
      "                                                                                \r"
     ]
    }
   ],
   "source": [
    "# fit model\n",
    "lrModel = lr.fit(rescaled_data_train)"
   ]
  },
  {
   "cell_type": "code",
   "execution_count": 35,
   "metadata": {},
   "outputs": [],
   "source": [
    "# get predictions for test set\n",
    "predictions = lrModel.transform(rescaled_data_test)"
   ]
  },
  {
   "cell_type": "code",
   "execution_count": 36,
   "metadata": {},
   "outputs": [
    {
     "name": "stdout",
     "output_type": "stream",
     "text": [
      "+--------------------+--------------------+----------+-----+\n",
      "|                Text|         probability|prediction|label|\n",
      "+--------------------+--------------------+----------+-----+\n",
      "|Fears for T N pen...|[5.60449440390442...|       3.0|    3|\n",
      "|The Race is On: S...|[1.14071490835005...|       4.0|    4|\n",
      "|Ky. Company Wins ...|[6.54740968853534...|       4.0|    4|\n",
      "|Prediction Unit H...|[7.45306676957384...|       2.0|    4|\n",
      "|Calif. Aims to Li...|[6.27946230614665...|       4.0|    4|\n",
      "+--------------------+--------------------+----------+-----+\n",
      "only showing top 5 rows\n",
      "\n"
     ]
    }
   ],
   "source": [
    "# show top 10 predictions\n",
    "predictions.select(\"Text\", 'probability','prediction', 'label').show(5)"
   ]
  },
  {
   "cell_type": "code",
   "execution_count": 37,
   "metadata": {},
   "outputs": [
    {
     "name": "stdout",
     "output_type": "stream",
     "text": [
      "Accuracy: 89.75%\n"
     ]
    }
   ],
   "source": [
    "#accuracy\n",
    "evaluator = MulticlassClassificationEvaluator(\n",
    "    labelCol=\"label\", predictionCol=\"prediction\", metricName=\"accuracy\")\n",
    "#accuracy in percentage\n",
    "accuracy = evaluator.evaluate(predictions)*100\n",
    "print(\"Accuracy: \" + str(accuracy.__round__(2)) + \"%\")"
   ]
  },
  {
   "cell_type": "code",
   "execution_count": 42,
   "metadata": {},
   "outputs": [
    {
     "data": {
      "image/png": "[encoded data removed]",
      "text/plain": [
       "<Figure size 700x700 with 1 Axes>"
      ]
     },
     "metadata": {},
     "output_type": "display_data"
    }
   ],
   "source": [
    "labels = {\"World\",\"Sports\",\"Business\", \"Science/Tech\"}\n",
    "\n",
    "preds_and_labels = preds_and_labels.withColumn('prediction', col('prediction').cast('double')) \\\n",
    "                                   .withColumn('label', col('label').cast('double'))\n",
    "\n",
    "preds_and_labels_rdd = preds_and_labels.rdd.map(lambda row: (row['prediction'], row['label']))\n",
    "\n",
    "# generate metrics\n",
    "metrics = MulticlassMetrics(preds_and_labels_rdd)\n",
    "\n",
    "# figure object\n",
    "_ = plt.figure(figsize=(7, 7))\n",
    "\n",
    "# plot confusion matrix\n",
    "sns.heatmap(metrics.confusionMatrix().toArray(),\n",
    "            cmap='viridis',\n",
    "            annot=True,fmt='0',\n",
    "            cbar=False,\n",
    "            xticklabels=labels,\n",
    "            yticklabels=labels)\n",
    "plt.show()"
   ]
  },
  {
   "cell_type": "code",
   "execution_count": 43,
   "metadata": {},
   "outputs": [
    {
     "name": "stderr",
     "output_type": "stream",
     "text": [
      "                                                                                \r"
     ]
    }
   ],
   "source": [
    "#save the model\n",
    "lrModel.write().overwrite().save(\"./lrModel\")"
   ]
  },
  {
   "cell_type": "code",
   "execution_count": null,
   "metadata": {},
   "outputs": [],
   "source": [
    "# save vectorizer\n",
    "idf_vectorizer.save(\"./idfModel\")  \n",
    "hashing_tf.save(\"./hashingTF\")"
   ]
  },
  {
   "cell_type": "code",
   "execution_count": null,
   "metadata": {},
   "outputs": [],
   "source": []
  }
 ],
 "metadata": {
  "kernelspec": {
   "display_name": "venv",
   "language": "python",
   "name": "python3"
  },
  "language_info": {
   "codemirror_mode": {
    "name": "ipython",
    "version": 3
   },
   "file_extension": ".py",
   "mimetype": "text/x-python",
   "name": "python",
   "nbconvert_exporter": "python",
   "pygments_lexer": "ipython3",
   "version": "3.12.6"
  }
 },
 "nbformat": 4,
 "nbformat_minor": 4
}
